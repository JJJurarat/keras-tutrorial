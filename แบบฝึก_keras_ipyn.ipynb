{
  "nbformat": 4,
  "nbformat_minor": 0,
  "metadata": {
    "colab": {
      "name": "แบบฝึก keras.ipyn",
      "provenance": [],
      "collapsed_sections": [],
      "toc_visible": true,
      "authorship_tag": "ABX9TyNfmdi25M46U9+31geKbuDJ",
      "include_colab_link": true
    },
    "kernelspec": {
      "name": "python3",
      "display_name": "Python 3"
    },
    "language_info": {
      "name": "python"
    }
  },
  "cells": [
    {
      "cell_type": "markdown",
      "metadata": {
        "id": "view-in-github",
        "colab_type": "text"
      },
      "source": [
        "<a href=\"https://colab.research.google.com/github/JJJurarat/keras-tutrorial/blob/main/%E0%B9%81%E0%B8%9A%E0%B8%9A%E0%B8%9D%E0%B8%B6%E0%B8%81_keras_ipyn.ipynb\" target=\"_parent\"><img src=\"https://colab.research.google.com/assets/colab-badge.svg\" alt=\"Open In Colab\"/></a>"
      ]
    },
    {
      "cell_type": "markdown",
      "metadata": {
        "id": "iu_apsNLh9YN"
      },
      "source": [
        "# **Happy House!**🏠\n",
        "---\n",
        "> เริ่มต้นโหลด packages ที่จำเป็น เพื่อใช้ในการแก้ปัญหาของ Happy House!"
      ]
    },
    {
      "cell_type": "code",
      "metadata": {
        "id": "hMJA_EAKjtDL"
      },
      "source": [
        "import h5py\n",
        "import matplotlib.pyplot as plt\n",
        "import numpy as np\n",
        "import pandas as pd\n",
        "from keras import layers\n",
        "from keras.layers import Input, Dense, Activation, ZeroPadding2D, BatchNormalization, Flatten, Conv2D\n",
        "from keras.layers import AveragePooling2D, MaxPooling2D, Dropout, GlobalMaxPooling2D, GlobalAveragePooling2D\n",
        "from keras.models import Model\n",
        "from keras.preprocessing import image\n",
        "from keras.utils import layer_utils\n",
        "from keras.utils.data_utils import get_file\n",
        "from keras.applications.imagenet_utils import preprocess_input\n",
        "import pydot\n",
        "from IPython.display import SVG\n",
        "from keras.utils.vis_utils import model_to_dot\n",
        "from keras.utils.vis_utils import plot_model\n",
        "# from kt_utils import *\n",
        "\n",
        "import keras.backend as K\n",
        "K.set_image_data_format('channels_last')\n",
        "import matplotlib.pyplot as plt\n",
        "from matplotlib.pyplot import imshow\n",
        "\n",
        "%matplotlib inline"
      ],
      "execution_count": 5,
      "outputs": []
    },
    {
      "cell_type": "markdown",
      "metadata": {
        "id": "RatcorQUkB50"
      },
      "source": [
        " **หมายเหตุ**\n",
        "```\n",
        "อย่างที่เราเห็นกันว่า มีการนำเข้าของฟังก์ชันมากมายจาก keras เราสามารถใช้ง่าย ๆ โดยการเรียกมัน \n",
        "เช่น  X = Input(...) หรือ X = ZeroPadding2D(...)\n",
        "```"
      ]
    },
    {
      "cell_type": "markdown",
      "metadata": {
        "id": "YgUTHtWenNL2"
      },
      "source": [
        "### **Situation**\n",
        "\n",
        "> **<font color=”purple”> The Happy House </font>**\n",
        "\n",
        "\n",
        "* ในวันหยุดที่จะมาถึงในครั้งถัดไป คุณตัดสินใจที่จะใช้เวลาในวันหยุดนั้น กับเพื่อน 5 คน สถานที่นั้นก็คือ บ้านที่แสนสะดวกสบายพร้อมสิ่งอำนวยความสะดวกมากมาย แต่สิ่งที่สำคัญคือ ทุกคนที่จะเข้ามาในบ้านได้ ต้อง Happy! ดังนั้นใครอยากเข้าบ้านต้องพิสูจน์ Happiness ในปัจจุบัน ก่อนแล้วล่ะ"
      ]
    },
    {
      "cell_type": "markdown",
      "metadata": {
        "id": "JIEThObNsm1P"
      },
      "source": [
        "<img src = \"https://datascience-enthusiast.com/figures/happy-house.jpg\" width = \"400 px\" height = \"300px\">\n"
      ]
    },
    {
      "cell_type": "markdown",
      "metadata": {
        "id": "bO_gClvYtCy-"
      },
      "source": [
        "###**Problem**\n",
        "ในฐานะที่คุณเป็นผู้เชี่ยวชาญด้านการเรียนรู้เชิงลึก คุณคงต้องใช้กฎ \"ความสุข\" 🤗\n",
        "---\n",
        "> โดยคุณจะต้องสร้าง Algorithm ที่มี input เป็นรูปภาพจากกล้องหน้าประตู เพื่อตรวจสอบว่าคนที่จะเข้ามาใน Happy House นั้นมีความสุขหรือไม่ ประตูจะเปิดก็ต่อเมื่อคนในรุปภาพจากกล้องมีความสุขเท่านั้น !!! โดยตอนนี้คุณมีรูปภาพจากกล้องของเพื่อน ๆ ทั้ง 5 คน รวมถึงตัวคุณเอง ที่ถ่ายด้วยกล้องหน้าประตู ซึ่งมี label กำกับไว้แล้ว \n",
        "---"
      ]
    },
    {
      "cell_type": "markdown",
      "metadata": {
        "id": "83IsSgfPvH25"
      },
      "source": [
        "<img src = \"https://datascience-enthusiast.com/figures/house-members.png\" width = \"650 px\" height = \"500px\">"
      ]
    },
    {
      "cell_type": "markdown",
      "metadata": {
        "id": "7Nq4_cbkvUva"
      },
      "source": [
        "**เรียกใช้โค้ดต่อไปนี้เพื่อทำให้ชุดข้อมูลเป็นมาตรฐานและเรียนรู้เกี่ยวกับรูปร่างของชุดข้อมูล**"
      ]
    },
    {
      "cell_type": "markdown",
      "metadata": {
        "id": "x0cQD_3-UAbU"
      },
      "source": [
        "* File ที่ใช้สำหรับการฝีกและทดสอบข้อมูลชุดนี้ โดยต้องนำเข้าหรือเชื่อมต่อกับ Drive ก่อนแก้ปัญหา \n",
        "[Click here](https://drive.google.com/drive/folders/1orieYmKnKZ8HmhdpVHceu8mAWGjMxxmi?usp=sharing) "
      ]
    },
    {
      "cell_type": "markdown",
      "metadata": {
        "id": "Ery0v_JZmFkt"
      },
      "source": [
        "> **<font color=”blue”> สามารถใช้วิธีการอื่นในการอ่านไฟล์ได้ </font>**"
      ]
    },
    {
      "cell_type": "markdown",
      "metadata": {
        "id": "71T5u53iURuD"
      },
      "source": [
        "**1. นำเข้าไฟล์โดยการเชื่อมกับ Drive และอ่านไฟล์**\n",
        "* test_happy.h5\n",
        "* train_happy.h5"
      ]
    },
    {
      "cell_type": "code",
      "metadata": {
        "colab": {
          "base_uri": "https://localhost:8080/"
        },
        "id": "0LtI2BBczHMR",
        "outputId": "39ea2b0c-ef24-4d7a-ca72-06784a8aa157"
      },
      "source": [
        "# เชื่อมต่ากับ Drive\n",
        "from google.colab import drive\n",
        "drive.mount('/content/drive')"
      ],
      "execution_count": 1,
      "outputs": [
        {
          "output_type": "stream",
          "name": "stdout",
          "text": [
            "Mounted at /content/drive\n"
          ]
        }
      ]
    },
    {
      "cell_type": "code",
      "metadata": {
        "id": "HJQ3-_xX4mBS"
      },
      "source": [
        "#นำ path จาก drive ที่ให้ไว้มาใส่\n",
        "path2 = \"/content/drive/MyDrive/Colab Notebooks/test_happy.h5\"  # path2 คือ test_happy.h5\n",
        "path1 = \"/content/drive/MyDrive/Colab Notebooks/train_happy.h5\" # path1 คือ train_happy.h5"
      ],
      "execution_count": 12,
      "outputs": []
    },
    {
      "cell_type": "markdown",
      "metadata": {
        "id": "p1FKzN5_UqIH"
      },
      "source": [
        "**2. ทำการ loading dataset จากทั้ง 2 ไฟล์ที่นำเข้ามา**"
      ]
    },
    {
      "cell_type": "code",
      "metadata": {
        "id": "Tkymh035wEqt"
      },
      "source": [
        "def load_dataset():\n",
        "    train_dataset = h5py.File(path1, mode=\"r\")\n",
        "    train_set_x_orig = np.array(train_dataset[\"train_set_x\"][:]) # ฝึกจากชุดลักษณะ\n",
        "    train_set_y_orig = np.array(train_dataset[\"train_set_y\"][:]) # ฝึกจากชุด labels\n",
        "    \n",
        "    test_dataset = h5py.File(path2, mode=\"r\")\n",
        "    test_set_x_orig = np.array(test_dataset[\"test_set_x\"][:]) # ทดสอบจากชุดลักษณะ\n",
        "    test_set_y_orig = np.array(test_dataset[\"test_set_y\"][:]) # ทดสอบจากชุด labels\n",
        "    \n",
        "    classes = np.array(test_dataset[\"list_classes\"][:]) # list of classes\n",
        "    \n",
        "    train_set_y_orig = train_set_y_orig.reshape(1, train_set_y_orig.shape[0])\n",
        "    test_set_y_orig = test_set_y_orig.reshape(1, test_set_y_orig.shape[0])\n",
        "    \n",
        "    return train_set_x_orig, train_set_y_orig, test_set_x_orig, test_set_y_orig, classes"
      ],
      "execution_count": 11,
      "outputs": []
    },
    {
      "cell_type": "markdown",
      "metadata": {
        "id": "MAvTyGtqA9EG"
      },
      "source": [
        "รายละเอียดของชุดข้อมูล \"Happy\"\n",
        "---\n",
        "* Images are of shape (64,64,3)\n",
        "* training : 600 ภาพ\n",
        "* test : 150 รูป\n",
        "ถึงเวลาแก้โจทย์ \"Happiness\" แล้ว\n",
        "---"
      ]
    },
    {
      "cell_type": "markdown",
      "metadata": {
        "id": "iq8b8gBBWWIt"
      },
      "source": [
        "####**ใช้รูปแบบ function ตามโค้ดด้านล่าง** \n",
        "* สำหรับการฝึกและทดสอบ model ที่คุณจะสร้างขึ้นจากปัญหา Happy House"
      ]
    },
    {
      "cell_type": "code",
      "metadata": {
        "id": "iVNby8m_QAlX"
      },
      "source": [
        "# GRADED FUNCTION: HappyModel\n",
        "\n",
        "def HappyModel(input_shape):\n",
        "    \"\"\"\n",
        "    Implementation of the HappyModel.\n",
        "    \n",
        "    Arguments:\n",
        "    input_shape -- shape of the images of the dataset\n",
        "\n",
        "    Returns:\n",
        "    model -- a Model() instance in Keras\n",
        "    \"\"\"\n",
        "    \n",
        "    ### START CODE HERE ###\n",
        "    # Feel free to use the suggested outline in the text above to get started, and run through the whole\n",
        "    # exercise (including the later portions of this notebook) once. The come back also try out other\n",
        "    # network architectures as well. \n",
        "        # Define the input placeholder as a tensor with shape input_shape. Think of this as your input image!\n",
        "    X_input = Input(input_shape)\n",
        "\n",
        "    # Zero-Padding: pads the border of X_input with zeroes\n",
        "    X = ZeroPadding2D((3, 3))(X_input)\n",
        "\n",
        "    # CONV -> BN -> RELU Block applied to X\n",
        "    X = Conv2D(32, (7, 7), strides=(1, 1), name='conv0')(X)\n",
        "    X = BatchNormalization(axis=3, name='bn0')(X)\n",
        "    X = Activation('relu')(X)\n",
        "    \n",
        "    # CONV -> BN -> RELU Block applied to X\n",
        "    X = Conv2D(64, (5,5), name='conv1')(X)\n",
        "    X = Activation('relu')(X)\n",
        "\n",
        "    # MAXPOOL\n",
        "    X = MaxPooling2D((2, 2), name='max_pool')(X)\n",
        "    \n",
        "    # DROPOUT\n",
        "    X = Dropout(rate=(0.25))(X)\n",
        "\n",
        "    # FLATTEN X (means convert it to a vector) + FULLYCONNECTED\n",
        "    X = Flatten()(X)\n",
        "    X = Dense(512, activation='relu')(X)\n",
        "    X = Dense(128, activation='relu')(X)\n",
        "    X = Dropout((0.5))(X)\n",
        "    \n",
        "    \n",
        "    X = Dense(1, activation='sigmoid', name='fc')(X)\n",
        "\n",
        "    # Create model. This creates your Keras model instance, you'll use this instance to train/test the model.\n",
        "    model = Model(inputs=X_input, outputs=X, name='HappyModel')\n",
        "\n",
        "    return model\n",
        "    ### END CODE HERE ###\n",
        "    \n",
        "    return model"
      ],
      "execution_count": null,
      "outputs": []
    },
    {
      "cell_type": "markdown",
      "metadata": {
        "id": "ge1pq91JbdJT"
      },
      "source": [
        "####Hint : step 2 compile the model\n",
        "> **<font color=”red”> The Happy Challenge is a binary classification problem. </font>**\n"
      ]
    },
    {
      "cell_type": "markdown",
      "metadata": {
        "id": "vbPKJNu_GYaj"
      },
      "source": [
        "#⏲It is now time to solve the \"Happy\" Challenge.\n"
      ]
    },
    {
      "cell_type": "markdown",
      "metadata": {
        "id": "kSkpf_ynWDLP"
      },
      "source": [
        "#💹 เฉลย Solution"
      ]
    },
    {
      "cell_type": "code",
      "metadata": {
        "colab": {
          "base_uri": "https://localhost:8080/"
        },
        "id": "aPmvHPysvdWY",
        "outputId": "2b56e733-68a6-4ed4-98c1-bad7e70dbc20"
      },
      "source": [
        "X_train_orig, Y_train_orig, X_test_orig, Y_test_orig, classes = load_dataset()\n",
        "\n",
        "# Normalize image vectors\n",
        "X_train = X_train_orig/255.\n",
        "X_test = X_test_orig/255.\n",
        "\n",
        "# Reshape\n",
        "Y_train = Y_train_orig.T\n",
        "Y_test = Y_test_orig.T\n",
        "\n",
        "print (\"number of training examples = \" + str(X_train.shape[0]))\n",
        "print (\"number of test examples = \" + str(X_test.shape[0]))\n",
        "print (\"X_train shape: \" + str(X_train.shape))\n",
        "print (\"Y_train shape: \" + str(Y_train.shape))\n",
        "print (\"X_test shape: \" + str(X_test.shape))\n",
        "print (\"Y_test shape: \" + str(Y_test.shape))\n",
        "\n",
        "#number of training examples = 600\n",
        "#number of test examples = 150\n",
        "#X_train shape: (600, 64, 64, 3)\n",
        "#Y_train shape: (600, 1)\n",
        "#X_test shape: (150, 64, 64, 3)\n",
        "#Y_test shape: (150, 1)"
      ],
      "execution_count": 22,
      "outputs": [
        {
          "output_type": "stream",
          "name": "stdout",
          "text": [
            "number of training examples = 600\n",
            "number of test examples = 150\n",
            "X_train shape: (600, 64, 64, 3)\n",
            "Y_train shape: (600, 1)\n",
            "X_test shape: (150, 64, 64, 3)\n",
            "Y_test shape: (150, 1)\n"
          ]
        }
      ]
    },
    {
      "cell_type": "markdown",
      "metadata": {
        "id": "aTyDyP9xgfqw"
      },
      "source": [
        "ลองแสดงผลรูปภาพของการเทรน จากตัวอย่างการเทรนที่ 599"
      ]
    },
    {
      "cell_type": "code",
      "metadata": {
        "colab": {
          "base_uri": "https://localhost:8080/",
          "height": 284
        },
        "id": "w3xZFc_EPa1Y",
        "outputId": "1c800ca4-d6c7-41fa-bfbf-abca82efb500"
      },
      "source": [
        "plt.imshow(X_train[599])"
      ],
      "execution_count": 15,
      "outputs": [
        {
          "output_type": "execute_result",
          "data": {
            "text/plain": [
              "<matplotlib.image.AxesImage at 0x7fbdf15b4950>"
            ]
          },
          "metadata": {},
          "execution_count": 15
        },
        {
          "output_type": "display_data",
          "data": {
            "image/png": "[encoded data removed]",
            "text/plain": [
              "<Figure size 432x288 with 1 Axes>"
            ]
          },
          "metadata": {
            "needs_background": "light"
          }
        }
      ]
    },
    {
      "cell_type": "code",
      "metadata": {
        "id": "osI5c1Q0j8In"
      },
      "source": [
        ""
      ],
      "execution_count": null,
      "outputs": []
    },
    {
      "cell_type": "markdown",
      "metadata": {
        "id": "xspZXLCKQDTz"
      },
      "source": [
        "###Step 1: create the model."
      ]
    },
    {
      "cell_type": "markdown",
      "metadata": {
        "id": "G5DL89S8QX6r"
      },
      "source": [
        "You have now built a function to describe your model. To train and test this model, there are four steps in Keras:"
      ]
    },
    {
      "cell_type": "code",
      "metadata": {
        "id": "d5FOuAnAQajO"
      },
      "source": [
        "happyModel = HappyModel(X_train.shape[1:])"
      ],
      "execution_count": 26,
      "outputs": []
    },
    {
      "cell_type": "markdown",
      "metadata": {
        "id": "2jm9LYdcbGi9"
      },
      "source": [
        "### Step 2: compile the model to configure the learning process\n",
        "กำหนดค่า โดยเรียก .compile()\n",
        "* optimizers\n",
        "* loss\n",
        "* metrics"
      ]
    },
    {
      "cell_type": "code",
      "metadata": {
        "id": "OVVl3KCBQjTA"
      },
      "source": [
        "happyModel.compile('adam', 'binary_crossentropy', metrics=['accuracy'])"
      ],
      "execution_count": 27,
      "outputs": []
    },
    {
      "cell_type": "markdown",
      "metadata": {
        "id": "JbuuVj9NdOY5"
      },
      "source": [
        "###Step 3: train the model. \n",
        " กำหนดค่า โดยเรียก .fit()\n",
        " * epoch\n",
        " * batch size\n",
        " * validation split\n"
      ]
    },
    {
      "cell_type": "code",
      "metadata": {
        "colab": {
          "base_uri": "https://localhost:8080/"
        },
        "id": "tNVK8b8tQpv0",
        "outputId": "34298fa8-b3e9-46cd-bca6-b5fba0b44508"
      },
      "source": [
        "happyModel.fit(X_train, Y_train, epochs=20, batch_size=50)"
      ],
      "execution_count": 28,
      "outputs": [
        {
          "output_type": "stream",
          "name": "stdout",
          "text": [
            "Epoch 1/20\n",
            "12/12 [==============================] - 24s 2s/step - loss: 2.5071 - accuracy: 0.5300\n",
            "Epoch 2/20\n",
            "12/12 [==============================] - 22s 2s/step - loss: 0.6932 - accuracy: 0.5000\n",
            "Epoch 3/20\n",
            "12/12 [==============================] - 22s 2s/step - loss: 0.6924 - accuracy: 0.5000\n",
            "Epoch 4/20\n",
            "12/12 [==============================] - 22s 2s/step - loss: 0.5781 - accuracy: 0.6967\n",
            "Epoch 5/20\n",
            "12/12 [==============================] - 22s 2s/step - loss: 0.3549 - accuracy: 0.8233\n",
            "Epoch 6/20\n",
            "12/12 [==============================] - 22s 2s/step - loss: 0.2376 - accuracy: 0.8967\n",
            "Epoch 7/20\n",
            "12/12 [==============================] - 22s 2s/step - loss: 0.1811 - accuracy: 0.9150\n",
            "Epoch 8/20\n",
            "12/12 [==============================] - 22s 2s/step - loss: 0.1416 - accuracy: 0.9400\n",
            "Epoch 9/20\n",
            "12/12 [==============================] - 22s 2s/step - loss: 0.1350 - accuracy: 0.9350\n",
            "Epoch 10/20\n",
            "12/12 [==============================] - 22s 2s/step - loss: 0.1238 - accuracy: 0.9517\n",
            "Epoch 11/20\n",
            "12/12 [==============================] - 22s 2s/step - loss: 0.1003 - accuracy: 0.9633\n",
            "Epoch 12/20\n",
            "12/12 [==============================] - 22s 2s/step - loss: 0.1049 - accuracy: 0.9700\n",
            "Epoch 13/20\n",
            "12/12 [==============================] - 22s 2s/step - loss: 0.0959 - accuracy: 0.9617\n",
            "Epoch 14/20\n",
            "12/12 [==============================] - 22s 2s/step - loss: 0.0921 - accuracy: 0.9583\n",
            "Epoch 15/20\n",
            "12/12 [==============================] - 22s 2s/step - loss: 0.0646 - accuracy: 0.9783\n",
            "Epoch 16/20\n",
            "12/12 [==============================] - 22s 2s/step - loss: 0.0633 - accuracy: 0.9733\n",
            "Epoch 17/20\n",
            "12/12 [==============================] - 22s 2s/step - loss: 0.0553 - accuracy: 0.9817\n",
            "Epoch 18/20\n",
            "12/12 [==============================] - 22s 2s/step - loss: 0.0681 - accuracy: 0.9717\n",
            "Epoch 19/20\n",
            "12/12 [==============================] - 23s 2s/step - loss: 0.0581 - accuracy: 0.9717\n",
            "Epoch 20/20\n",
            "12/12 [==============================] - 23s 2s/step - loss: 0.0702 - accuracy: 0.9717\n"
          ]
        },
        {
          "output_type": "execute_result",
          "data": {
            "text/plain": [
              "<keras.callbacks.History at 0x7fbde91dec90>"
            ]
          },
          "metadata": {},
          "execution_count": 28
        }
      ]
    },
    {
      "cell_type": "markdown",
      "metadata": {
        "id": "-LZI3__SdpKF"
      },
      "source": [
        "###Step 4: Evaluate the model\n",
        "โดยการเรียก .evaluate"
      ]
    },
    {
      "cell_type": "code",
      "metadata": {
        "colab": {
          "base_uri": "https://localhost:8080/"
        },
        "id": "JhjYQWTAQwAx",
        "outputId": "e409d160-0201-4a39-dfce-2415bc2a6daa"
      },
      "source": [
        "preds = happyModel.evaluate(X_test, Y_test, batch_size=32, verbose=1, sample_weight=None)\n",
        "print()\n",
        "print (\"Loss = \" + str(preds[0]))\n",
        "print (\"Test Accuracy = \" + str(preds[1]))"
      ],
      "execution_count": 29,
      "outputs": [
        {
          "output_type": "stream",
          "name": "stdout",
          "text": [
            "5/5 [==============================] - 2s 267ms/step - loss: 0.1870 - accuracy: 0.9467\n",
            "\n",
            "Loss = 0.18701305985450745\n",
            "Test Accuracy = 0.9466666579246521\n"
          ]
        }
      ]
    },
    {
      "cell_type": "markdown",
      "metadata": {
        "id": "jd2N8n6JeRl6"
      },
      "source": [
        "###Step 5: Predict\n",
        "* เลือกรูปภาพที่อยาก predict นอกเหนือจากข้อมูล data set ที่ใช้ฝึกโมเดลชุดนี้"
      ]
    },
    {
      "cell_type": "code",
      "metadata": {
        "id": "5RYRakE3RCrm"
      },
      "source": [
        "img_path = 'my_image.jpg' \n",
        "img = image.load_img(img_path, target_size=(64, 64))\n",
        "imshow(img)\n",
        "\n",
        "x ​= image.img_to_array(img)\n",
        "x ​= np.expand_dims(x, axis=0)\n",
        "x ​= preprocess_input(x)\n",
        "\n",
        "print(happyModel.predict(x)"
      ],
      "execution_count": null,
      "outputs": []
    },
    {
      "cell_type": "markdown",
      "metadata": {
        "id": "QUPeIKlhf1Zt"
      },
      "source": [
        "###End\n",
        "Congratulations, you have solved the Happy House challenge!"
      ]
    }
  ]
}